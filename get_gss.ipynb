{
  "cells": [
    {
      "cell_type": "markdown",
      "source": [
        "## Getting the GSS Data\n",
        "\n",
        "Since the data files are about 40GB zipped, we can't store a compressed or uncompressed version on GitHub, and the entire dataset can't really be loaded into memory with Colab.\n",
        "\n",
        "One option is to use Rivana: Download the data, unzip it, and work on it in a persistent environment.\n",
        "\n",
        "The other option is to avoid opening the entire file at once, and instead work with chunks of the data. That's what this code does for you.\n",
        "\n",
        "On GitHub, the data are broken into three smaller files, saved in .parquet format. The code below will load these chunks into memory, one at a time, you can specify the variables you want in `var_list`, and the results will be saved in `selected_gss_data.csv`.\n",
        "\n",
        "You can add more cleaning instructions in between the lines where the data are loaded ( `df = pd.read_parquet(url)`) and the data are saved (`df.loc...`). It's probably easiest to use this code to get only the variables you want, and then clean that subset of the data."
      ],
      "metadata": {
        "id": "1wG5tUBJZAeC"
      },
      "id": "1wG5tUBJZAeC"
    },
    {
      "cell_type": "code",
      "execution_count": 1,
      "id": "898a40de-9f3d-4dfc-8878-cd3badfdbcec",
      "metadata": {
        "id": "898a40de-9f3d-4dfc-8878-cd3badfdbcec"
      },
      "outputs": [],
      "source": [
        "import pandas as pd\n",
        "#\n",
        "var_list = ['wrkstat', 'prestige'] # List of variables you want to save\n",
        "output_filename = 'selected_gss_data.csv' # Name of the file you want to save the data to\n",
        "#\n",
        "modes = ['w','a'] # Has write mode and append mode\n",
        "phase = 0 # Starts in write mode; after one iteration of loop, switches to append mode\n",
        "#\n",
        "for k in range(3): # for each chunk of the data\n",
        "    url = 'https://github.com/DS3001/project_gss/raw/main/gss_chunk_' + str(1+k) + '.parquet' # Create url to the chunk to be processed\n",
        "    #print(url) # Check the url is correct\n",
        "    df = pd.read_parquet(url) # Download this chunk of data\n",
        "    #print(df.head()) # Visually inspect the first few rows\n",
        "    df.loc[:,var_list].to_csv(output_filename, # specifies target file to save the chunk to\n",
        "                              mode=modes[phase], # control write versus append\n",
        "                              header=var_list, # variable names\n",
        "                              index=False) # no row index saved\n",
        "    phase = 1 # Switch from write mode to append mode"
      ]
    },
    {
      "cell_type": "code",
      "source": [
        "df2 = df[['age', 'sex', 'race', 'degree', 'health', 'happy',\n",
        "          'marital', 'martype', 'agewed', 'hrs2', 'indus10',\n",
        "          'agekdbrn', 'childs', 'class', 'income16', 'dateintv']]\n",
        "#print(df2.dtypes, '\\n')\n",
        "print(df2.tail())\n",
        "print(list(df2.columns))\n",
        "\n",
        "#df2 = df.copy()\n",
        "# age (N)\n",
        "# sex (C) : male or female\n",
        "# race (C)\n",
        "# degree (C)\n",
        "# health (C) : poor, fair, good, excellent\n",
        "# happy (C) : level\n",
        "# marital (C) : status\n",
        "# martype (C) : type of marriage\n",
        "# agewed (N) : age married\n",
        "# wrkstat : part-time, full-time, school, keeping house\n",
        "# hrs2 (N) : typical weekly hrs worked\n",
        "# wrkslf (C) : self employed?\n",
        "# wrkgovt1 (C) : government employeed\n",
        "# wrkgovt2 (C) : private employeed\n",
        "# whatslf2 (C) : work place classification\n",
        "# ind10 (N) : work industry\n",
        "# agekdbrn (N) : age when 1st kd born\n",
        "# childs (N) : # of kids\n",
        "# class (C) : economic (self-evaluated)\n",
        "# income16 (N) : range total family income"
      ],
      "metadata": {
        "id": "C5onIJ0t-aOp",
        "outputId": "50df7d48-8888-4bc1-875f-2bedfeadb6e3",
        "colab": {
          "base_uri": "https://localhost:8080/"
        }
      },
      "id": "C5onIJ0t-aOp",
      "execution_count": 2,
      "outputs": [
        {
          "output_type": "stream",
          "name": "stdout",
          "text": [
            "        age     sex   race                    degree health         happy  \\\n",
            "24125  22.0  female  white               high school   good  pretty happy   \n",
            "24126  29.0  female  white                  graduate   good  pretty happy   \n",
            "24127  32.0    male  white  associate/junior college   good  pretty happy   \n",
            "24128  49.0  female  white                  graduate   good    very happy   \n",
            "24129  50.0    male  white                  graduate   fair  pretty happy   \n",
            "\n",
            "             marital                             martype  agewed  hrs2  \\\n",
            "24125  never married                                 NaN     NaN   NaN   \n",
            "24126        married                                 NaN     NaN   NaN   \n",
            "24127  never married                                 NaN     NaN   NaN   \n",
            "24128        married  marriage between a man and a woman     NaN   NaN   \n",
            "24129        married  marriage between a man and a woman     NaN   NaN   \n",
            "\n",
            "       indus10  agekdbrn  childs          class              income16  \\\n",
            "24125   8660.0       NaN     0.0    lower class    $25,000 to $29,999   \n",
            "24126   8190.0      25.0     2.0  working class    $60,000 to $74,999   \n",
            "24127   8190.0      28.0     1.0   middle class  $130,000 to $149,999   \n",
            "24128   7860.0       NaN     0.0   middle class  $150,000 to $169,999   \n",
            "24129   9170.0      42.0     1.0   middle class   $90,000 to $109,999   \n",
            "\n",
            "       dateintv  \n",
            "24125     625.0  \n",
            "24126    1117.0  \n",
            "24127     830.0  \n",
            "24128     828.0  \n",
            "24129    1104.0  \n",
            "['age', 'sex', 'race', 'degree', 'health', 'happy', 'marital', 'martype', 'agewed', 'hrs2', 'indus10', 'agekdbrn', 'childs', 'class', 'income16', 'dateintv']\n"
          ]
        }
      ]
    },
    {
      "cell_type": "code",
      "source": [
        "total = len(df2['dateintv'])\n",
        "print(total)"
      ],
      "metadata": {
        "id": "Wzd0L4wgJsj8",
        "outputId": "ae0c00fa-358f-4fa2-c20f-92e24dc0dbcd",
        "colab": {
          "base_uri": "https://localhost:8080/"
        }
      },
      "id": "Wzd0L4wgJsj8",
      "execution_count": 34,
      "outputs": [
        {
          "output_type": "stream",
          "name": "stdout",
          "text": [
            "24130\n"
          ]
        }
      ]
    },
    {
      "cell_type": "code",
      "source": [
        "for value, count in df2['marital'].value_counts().items():\n",
        "    print(f\"{value}: {count} times\")\n",
        "nan_count = df2['marital'].isna().sum()\n",
        "print(f\"nans:{nan_count}\")"
      ],
      "metadata": {
        "id": "IS72QVfE-74R",
        "outputId": "64242cf9-b89b-43bf-9f0d-ba355c69b7f6",
        "colab": {
          "base_uri": "https://localhost:8080/"
        }
      },
      "id": "IS72QVfE-74R",
      "execution_count": 9,
      "outputs": [
        {
          "output_type": "stream",
          "name": "stdout",
          "text": [
            "married: 10939 times\n",
            "not married: 7240 times\n",
            "divorced: 3989 times\n",
            "widowed: 1962 times\n",
            "nans:0\n"
          ]
        }
      ]
    },
    {
      "cell_type": "code",
      "source": [
        "keyword = 'help'  # Replace with the keyword you want to check\n",
        "columns_with_keyword = [col for col in df.columns if keyword in col]\n",
        "\n",
        "# Print columns containing the keyword\n",
        "print(columns_with_keyword)"
      ],
      "metadata": {
        "id": "BZmnvl54_Mhw",
        "outputId": "e532c520-0470-4f52-865c-d2a0dbf50183",
        "colab": {
          "base_uri": "https://localhost:8080/"
        }
      },
      "id": "BZmnvl54_Mhw",
      "execution_count": 46,
      "outputs": [
        {
          "output_type": "stream",
          "name": "stdout",
          "text": [
            "['helpful', 'helpoth', 'jobhelp', 'fehelp', 'helppoor', 'helpnot', 'helpsick', 'helpblk', 'helporg', 'obtohelp', 'selfhelp', 'suphelp', 'abhelp1', 'abhelp2', 'abhelp3', 'abhelp4', 'helpaway', 'othshelp', 'godhelp', 'helphlth', 'helpold', 'helpsec', 'helpcrim', 'helpemp', 'helpenv', 'helphwrk', 'helpjob', 'frdhelps', 'helpfrds', 'eldhelp', 'helporg1', 'askhelp', 'grwthelp', 'helpharm', 'helpusa', 'helpwrld', 'helpfulv', 'helpfulnv']\n"
          ]
        }
      ]
    },
    {
      "cell_type": "code",
      "source": [
        "# Sex\n",
        "df2['sex'] = df['sex'].apply(lambda x: x if x in ['male', 'female'] else pd.NA)\n",
        "\n",
        "# Age - leave as is\n",
        "\n",
        "# Race\n",
        "df2['race'] = df['race'].apply(lambda x: x if x in ['white', 'black', 'other'] else pd.NA)\n",
        "\n",
        "# Degree\n",
        "df2['degree'] = df['degree'].apply(lambda x: x if x in ['high school', \"bachelor's\",\n",
        "                                                         'graduate', 'less than high school',\n",
        "                                                        'associate/junior college'] else pd.NA)\n",
        "\n",
        "# Health\n",
        "df2['health'] = df['health'].apply(lambda x: x if x in ['poor', 'fair', 'excellent', 'good'] else pd.NA)\n",
        "\n",
        "# Happy\n",
        "df2['happy'] = df['happy'].apply(lambda x: x if x in ['very happy', 'pretty happy', 'not too happy'] else pd.NA)\n",
        "\n",
        "# Marital\n",
        "df2['marital'] = df['marital'].apply(lambda x: x if x in ['married', 'never married',\n",
        "                                                          'divorced', 'widowed',\n",
        "                                                          'seperated'] else pd.NA)\n",
        "df2['marital'] = df2['marital'].fillna('not married')\n",
        "df['marital'] = df['marital'].str.strip().replace('never married', 'not married')\n",
        "\n",
        "\n",
        "# martype\n",
        "df2['martype'] = df['martype'].apply(lambda x: x if x in ['marriage between a man and a woman',\n",
        "                                                          'marriage between two people of the same gender'] else pd.NA)\n",
        "\n",
        "# agewed - leave as is\n",
        "\n",
        "# indus10\n",
        "df2['indus10'] = pd.to_numeric(df2['indus10'], errors='coerce')\n",
        "bins = [0, 3540, 4650, 5940, 7630, 9750, 9830, float('inf')]\n",
        "labels = ['Management, Business, Science, and Arts Occupations',\n",
        "          'Service Occupations',\n",
        "          'Sales and Office Occupations',\n",
        "          'Natural Resources, Construction, and Maintenance Occupations',\n",
        "          'Production, Transportation, and Material Moving Occupations',\n",
        "          'Military Specific Occupations',\n",
        "          'Other']\n",
        "\n",
        "df2['indus10'] = pd.cut(df2['indus10'], bins=bins, labels=labels, include_lowest=True, right=False)\n",
        "#df2['indus10'] = df2['indus10'].fillna('Unemployed')\n",
        "\n",
        "\n",
        "# hrs2 - leave as is\n",
        "\n",
        "# Childs\n",
        "df2['childs'] = df['childs'].apply(lambda x: x if x in [0.0, 2.0, 3.0, 1.0, 4.0, 5.0, 6.0, 8.0, 7.0] else pd.NA)\n",
        "\n",
        "# Class\n",
        "df2['class'] = df['class'].apply(lambda x: x if x in ['middle class', 'working class', 'lower class', 'upper class'] else pd.NA)\n",
        "\n",
        "# agekdbrn - leave as is\n",
        "\n",
        "# Income16\n",
        "df2['income16'] = df['income16'].apply(lambda x: x if x in ['$60,000 to $74,999', '$170,000 or over', '$75,000 to $89,999', '$90,000 to $109,999',\n",
        "                                                           '$50,000 to $59,999', '$40,000 to $49,999', '$110,000 to $129,999', '$30,000 to $34,999',\n",
        "                                                            '$35,000 to $39,999', '$130,000 to $149,999', '$25,000 to $29,999', '$150,000 to $169,999',\n",
        "                                                            '$10,000 to $12,499', '$22,500 to $24,999', '$20,000 to $22,499', '$12,500 to $14,999',\n",
        "                                                            '$15,000 to $17,499', '$17,500 to $19,999', '$8,000 to $9,999', 'under $1,000',\n",
        "                                                            '$1,000 to $2,999', '$3,000 to $3,999', '$7,000 to $7,999', '$5,000 to $5,999',\n",
        "                                                            '$6,000 to $6,999', '$4,000 to $4,999'] else pd.NA)\n",
        "df2['income16'] = df2['income16'].fillna('unemployed/zero income')\n",
        "\n"
      ],
      "metadata": {
        "id": "yEQSM7AA-hFk",
        "outputId": "fdea73f3-c815-4c23-d19a-3a4a1bc8b82b",
        "colab": {
          "base_uri": "https://localhost:8080/"
        }
      },
      "id": "yEQSM7AA-hFk",
      "execution_count": 8,
      "outputs": [
        {
          "output_type": "stream",
          "name": "stderr",
          "text": [
            "<ipython-input-8-7d391a000e09>:2: SettingWithCopyWarning: \n",
            "A value is trying to be set on a copy of a slice from a DataFrame.\n",
            "Try using .loc[row_indexer,col_indexer] = value instead\n",
            "\n",
            "See the caveats in the documentation: https://pandas.pydata.org/pandas-docs/stable/user_guide/indexing.html#returning-a-view-versus-a-copy\n",
            "  df2['sex'] = df['sex'].apply(lambda x: x if x in ['male', 'female'] else pd.NA)\n",
            "<ipython-input-8-7d391a000e09>:7: SettingWithCopyWarning: \n",
            "A value is trying to be set on a copy of a slice from a DataFrame.\n",
            "Try using .loc[row_indexer,col_indexer] = value instead\n",
            "\n",
            "See the caveats in the documentation: https://pandas.pydata.org/pandas-docs/stable/user_guide/indexing.html#returning-a-view-versus-a-copy\n",
            "  df2['race'] = df['race'].apply(lambda x: x if x in ['white', 'black', 'other'] else pd.NA)\n",
            "<ipython-input-8-7d391a000e09>:10: SettingWithCopyWarning: \n",
            "A value is trying to be set on a copy of a slice from a DataFrame.\n",
            "Try using .loc[row_indexer,col_indexer] = value instead\n",
            "\n",
            "See the caveats in the documentation: https://pandas.pydata.org/pandas-docs/stable/user_guide/indexing.html#returning-a-view-versus-a-copy\n",
            "  df2['degree'] = df['degree'].apply(lambda x: x if x in ['high school', \"bachelor's\",\n",
            "<ipython-input-8-7d391a000e09>:15: SettingWithCopyWarning: \n",
            "A value is trying to be set on a copy of a slice from a DataFrame.\n",
            "Try using .loc[row_indexer,col_indexer] = value instead\n",
            "\n",
            "See the caveats in the documentation: https://pandas.pydata.org/pandas-docs/stable/user_guide/indexing.html#returning-a-view-versus-a-copy\n",
            "  df2['health'] = df['health'].apply(lambda x: x if x in ['poor', 'fair', 'excellent', 'good'] else pd.NA)\n",
            "<ipython-input-8-7d391a000e09>:18: SettingWithCopyWarning: \n",
            "A value is trying to be set on a copy of a slice from a DataFrame.\n",
            "Try using .loc[row_indexer,col_indexer] = value instead\n",
            "\n",
            "See the caveats in the documentation: https://pandas.pydata.org/pandas-docs/stable/user_guide/indexing.html#returning-a-view-versus-a-copy\n",
            "  df2['happy'] = df['happy'].apply(lambda x: x if x in ['very happy', 'pretty happy', 'not too happy'] else pd.NA)\n",
            "<ipython-input-8-7d391a000e09>:21: SettingWithCopyWarning: \n",
            "A value is trying to be set on a copy of a slice from a DataFrame.\n",
            "Try using .loc[row_indexer,col_indexer] = value instead\n",
            "\n",
            "See the caveats in the documentation: https://pandas.pydata.org/pandas-docs/stable/user_guide/indexing.html#returning-a-view-versus-a-copy\n",
            "  df2['marital'] = df['marital'].apply(lambda x: x if x in ['married', 'never married',\n",
            "<ipython-input-8-7d391a000e09>:24: SettingWithCopyWarning: \n",
            "A value is trying to be set on a copy of a slice from a DataFrame.\n",
            "Try using .loc[row_indexer,col_indexer] = value instead\n",
            "\n",
            "See the caveats in the documentation: https://pandas.pydata.org/pandas-docs/stable/user_guide/indexing.html#returning-a-view-versus-a-copy\n",
            "  df2['marital'] = df2['marital'].fillna('not married')\n",
            "<ipython-input-8-7d391a000e09>:29: SettingWithCopyWarning: \n",
            "A value is trying to be set on a copy of a slice from a DataFrame.\n",
            "Try using .loc[row_indexer,col_indexer] = value instead\n",
            "\n",
            "See the caveats in the documentation: https://pandas.pydata.org/pandas-docs/stable/user_guide/indexing.html#returning-a-view-versus-a-copy\n",
            "  df2['martype'] = df['martype'].apply(lambda x: x if x in ['marriage between a man and a woman',\n",
            "<ipython-input-8-7d391a000e09>:35: SettingWithCopyWarning: \n",
            "A value is trying to be set on a copy of a slice from a DataFrame.\n",
            "Try using .loc[row_indexer,col_indexer] = value instead\n",
            "\n",
            "See the caveats in the documentation: https://pandas.pydata.org/pandas-docs/stable/user_guide/indexing.html#returning-a-view-versus-a-copy\n",
            "  df2['indus10'] = pd.to_numeric(df2['indus10'], errors='coerce')\n",
            "<ipython-input-8-7d391a000e09>:45: SettingWithCopyWarning: \n",
            "A value is trying to be set on a copy of a slice from a DataFrame.\n",
            "Try using .loc[row_indexer,col_indexer] = value instead\n",
            "\n",
            "See the caveats in the documentation: https://pandas.pydata.org/pandas-docs/stable/user_guide/indexing.html#returning-a-view-versus-a-copy\n",
            "  df2['indus10'] = pd.cut(df2['indus10'], bins=bins, labels=labels, include_lowest=True, right=False)\n",
            "<ipython-input-8-7d391a000e09>:52: SettingWithCopyWarning: \n",
            "A value is trying to be set on a copy of a slice from a DataFrame.\n",
            "Try using .loc[row_indexer,col_indexer] = value instead\n",
            "\n",
            "See the caveats in the documentation: https://pandas.pydata.org/pandas-docs/stable/user_guide/indexing.html#returning-a-view-versus-a-copy\n",
            "  df2['childs'] = df['childs'].apply(lambda x: x if x in [0.0, 2.0, 3.0, 1.0, 4.0, 5.0, 6.0, 8.0, 7.0] else pd.NA)\n",
            "<ipython-input-8-7d391a000e09>:55: SettingWithCopyWarning: \n",
            "A value is trying to be set on a copy of a slice from a DataFrame.\n",
            "Try using .loc[row_indexer,col_indexer] = value instead\n",
            "\n",
            "See the caveats in the documentation: https://pandas.pydata.org/pandas-docs/stable/user_guide/indexing.html#returning-a-view-versus-a-copy\n",
            "  df2['class'] = df['class'].apply(lambda x: x if x in ['middle class', 'working class', 'lower class', 'upper class'] else pd.NA)\n",
            "<ipython-input-8-7d391a000e09>:60: SettingWithCopyWarning: \n",
            "A value is trying to be set on a copy of a slice from a DataFrame.\n",
            "Try using .loc[row_indexer,col_indexer] = value instead\n",
            "\n",
            "See the caveats in the documentation: https://pandas.pydata.org/pandas-docs/stable/user_guide/indexing.html#returning-a-view-versus-a-copy\n",
            "  df2['income16'] = df['income16'].apply(lambda x: x if x in ['$60,000 to $74,999', '$170,000 or over', '$75,000 to $89,999', '$90,000 to $109,999',\n",
            "<ipython-input-8-7d391a000e09>:67: SettingWithCopyWarning: \n",
            "A value is trying to be set on a copy of a slice from a DataFrame.\n",
            "Try using .loc[row_indexer,col_indexer] = value instead\n",
            "\n",
            "See the caveats in the documentation: https://pandas.pydata.org/pandas-docs/stable/user_guide/indexing.html#returning-a-view-versus-a-copy\n",
            "  df2['income16'] = df2['income16'].fillna('unemployed/zero income')\n"
          ]
        }
      ]
    },
    {
      "cell_type": "code",
      "source": [
        "print(df2.tail())"
      ],
      "metadata": {
        "id": "bMG1ILXxNlp8",
        "outputId": "263be3a4-82e7-4e75-e3bc-f342f9b815ca",
        "colab": {
          "base_uri": "https://localhost:8080/"
        }
      },
      "id": "bMG1ILXxNlp8",
      "execution_count": 47,
      "outputs": [
        {
          "output_type": "stream",
          "name": "stdout",
          "text": [
            "        age     sex   race                    degree health         happy  \\\n",
            "24125  22.0  female  white               high school   good  pretty happy   \n",
            "24126  29.0  female  white                  graduate   good  pretty happy   \n",
            "24127  32.0    male  white  associate/junior college   good  pretty happy   \n",
            "24128  49.0  female  white                  graduate   good    very happy   \n",
            "24129  50.0    male  white                  graduate   fair  pretty happy   \n",
            "\n",
            "             marital                             martype  agewed  hrs2  \\\n",
            "24125  never married                                 NaN     NaN   NaN   \n",
            "24126        married                                 NaN     NaN   NaN   \n",
            "24127  never married                                 NaN     NaN   NaN   \n",
            "24128        married  marriage between a man and a woman     NaN   NaN   \n",
            "24129        married  marriage between a man and a woman     NaN   NaN   \n",
            "\n",
            "       indus10  agekdbrn  childs          class              income16  \\\n",
            "24125   8660.0       NaN     0.0    lower class    $25,000 to $29,999   \n",
            "24126   8190.0      25.0     2.0  working class    $60,000 to $74,999   \n",
            "24127   8190.0      28.0     1.0   middle class  $130,000 to $149,999   \n",
            "24128   7860.0       NaN     0.0   middle class  $150,000 to $169,999   \n",
            "24129   9170.0      42.0     1.0   middle class   $90,000 to $109,999   \n",
            "\n",
            "       dateintv  \n",
            "24125     625.0  \n",
            "24126    1117.0  \n",
            "24127     830.0  \n",
            "24128     828.0  \n",
            "24129    1104.0  \n"
          ]
        }
      ]
    },
    {
      "cell_type": "code",
      "source": [
        "df2.to_csv('cleanedSECOND.csv', index=False)"
      ],
      "metadata": {
        "id": "dNd79d0tFiv2"
      },
      "id": "dNd79d0tFiv2",
      "execution_count": 52,
      "outputs": []
    }
  ],
  "metadata": {
    "kernelspec": {
      "display_name": "Python 3 (ipykernel)",
      "language": "python",
      "name": "python3"
    },
    "language_info": {
      "codemirror_mode": {
        "name": "ipython",
        "version": 3
      },
      "file_extension": ".py",
      "mimetype": "text/x-python",
      "name": "python",
      "nbconvert_exporter": "python",
      "pygments_lexer": "ipython3",
      "version": "3.11.4"
    },
    "colab": {
      "provenance": []
    }
  },
  "nbformat": 4,
  "nbformat_minor": 5
}