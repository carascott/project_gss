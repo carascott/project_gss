{
  "cells": [
    {
      "cell_type": "markdown",
      "source": [
        "## Getting the GSS Data\n",
        "\n",
        "Since the data files are about 40GB zipped, we can't store a compressed or uncompressed version on GitHub, and the entire dataset can't really be loaded into memory with Colab.\n",
        "\n",
        "One option is to use Rivana: Download the data, unzip it, and work on it in a persistent environment.\n",
        "\n",
        "The other option is to avoid opening the entire file at once, and instead work with chunks of the data. That's what this code does for you.\n",
        "\n",
        "On GitHub, the data are broken into three smaller files, saved in .parquet format. The code below will load these chunks into memory, one at a time, you can specify the variables you want in `var_list`, and the results will be saved in `selected_gss_data.csv`.\n",
        "\n",
        "You can add more cleaning instructions in between the lines where the data are loaded ( `df = pd.read_parquet(url)`) and the data are saved (`df.loc...`). It's probably easiest to use this code to get only the variables you want, and then clean that subset of the data."
      ],
      "metadata": {
        "id": "1wG5tUBJZAeC"
      },
      "id": "1wG5tUBJZAeC"
    },
    {
      "cell_type": "code",
      "source": [
        "! git clone https://github.com/DS3001/project_gss\n",
        "import numpy as np\n",
        "import pandas as pd\n",
        "import matplotlib.pyplot as plt\n",
        "import seaborn as sns\n",
        "from sklearn.model_selection import train_test_split\n",
        "from sklearn.metrics import mean_squared_error\n",
        "from sklearn.neighbors import KNeighborsRegressor"
      ],
      "metadata": {
        "colab": {
          "base_uri": "https://localhost:8080/"
        },
        "id": "KdjmjUIQmhqg",
        "outputId": "ef963805-5742-4dd2-ca8f-99232a5195b0"
      },
      "id": "KdjmjUIQmhqg",
      "execution_count": 27,
      "outputs": [
        {
          "output_type": "stream",
          "name": "stdout",
          "text": [
            "Cloning into 'project_gss'...\n",
            "remote: Enumerating objects: 23, done.\u001b[K\n",
            "remote: Counting objects: 100% (8/8), done.\u001b[K\n",
            "remote: Compressing objects: 100% (7/7), done.\u001b[K\n",
            "remote: Total 23 (delta 6), reused 1 (delta 1), pack-reused 15\u001b[K\n",
            "Receiving objects: 100% (23/23), 23.94 MiB | 20.72 MiB/s, done.\n",
            "Resolving deltas: 100% (6/6), done.\n"
          ]
        }
      ]
    },
    {
      "cell_type": "code",
      "execution_count": 180,
      "id": "898a40de-9f3d-4dfc-8878-cd3badfdbcec",
      "metadata": {
        "id": "898a40de-9f3d-4dfc-8878-cd3badfdbcec",
        "outputId": "7740a6af-f160-4747-b17b-751fced7be79",
        "colab": {
          "base_uri": "https://localhost:8080/"
        }
      },
      "outputs": [
        {
          "output_type": "stream",
          "name": "stdout",
          "text": [
            "(24130, 6694)\n"
          ]
        },
        {
          "output_type": "execute_result",
          "data": {
            "text/plain": [
              "Index(['year', 'id', 'wrkstat', 'hrs1', 'hrs2', 'evwork', 'occ', 'prestige',\n",
              "       'wrkslf', 'wrkgovt',\n",
              "       ...\n",
              "       'agehef12', 'agehef13', 'agehef14', 'hompoph', 'wtssps_nea',\n",
              "       'wtssnrps_nea', 'wtssps_next', 'wtssnrps_next', 'wtsscomp',\n",
              "       'wtsscompnr'],\n",
              "      dtype='object', length=6694)"
            ]
          },
          "metadata": {},
          "execution_count": 180
        }
      ],
      "source": [
        "var_list = ['wrkstat', 'prestige'] # List of variables you want to save\n",
        "output_filename = 'selected_gss_data.csv' # Name of the file you want to save the data to\n",
        "\n",
        "modes = ['w','a'] # Has write mode and append mode\n",
        "phase = 0 # Starts in write mode; after one iteration of loop, switches to append mode\n",
        "\n",
        "for k in range(3): # for each chunk of the data\n",
        "    url = 'https://github.com/DS3001/project_gss/raw/main/gss_chunk_' + str(1+k) + '.parquet' # Create url to the chunk to be processed\n",
        "    #print(url) # Check the url is correct\n",
        "    df = pd.read_parquet(url) # Download this chunk of data\n",
        "    #print(df.head()) # Visually inspect the first few rows\n",
        "    df.loc[:,var_list].to_csv(output_filename, # specifies target file to save the chunk to\n",
        "                              mode=modes[phase], # control write versus append\n",
        "                              header=var_list, # variable names\n",
        "                              index=False) # no row index saved\n",
        "    phase = 1 # Switch from write mode to append mode\n",
        "\n",
        "print(df.shape)\n",
        "df.columns\n",
        "# 6694 columns/variables"
      ]
    },
    {
      "cell_type": "code",
      "source": [
        "# Creating new data frame with certain, potentially relevant variables\n",
        "df2 = df[['age', 'sex', 'race', 'dipged', 'degree', 'educ', 'padeg', 'madeg',\n",
        "          'major1', 'major2', 'health', 'happy',\n",
        "          'marital', 'martype', 'agewed', 'divorce', 'widowed',\n",
        "          'occ10', 'wrkstat', 'hrs1', 'hrs2', 'wrkslf', 'wrkgovt1',\n",
        "          'wrkgovt2', 'whatslf2', 'indus10',\n",
        "          'spwrksta', 'sphrs1', 'sphrs2', 'spwrkslf', 'spwrkslffam', 'spocc10',\n",
        "          'sppres10', 'spind10', 'whatsp2',\n",
        "          'agekdbrn', 'childs', 'class', 'income16', 'pres16', 'pres20']]\n",
        "#print(df2.dtypes, '\\n')\n",
        "print(df2.tail())\n",
        "print(list(df2.columns))\n",
        "# age (N)\n",
        "# sex (C) : male or female\n",
        "# race (C)\n",
        "# digped (N??) : highschool education/degree\n",
        "# degree (C)\n",
        "# educ (N) : 10-20 ????\n",
        "# paedeg/maedeg: (C) father/mother degree/education level\n",
        "# major1/major2 (C) : 2 majors inputtable per person\n",
        "# health (C) : poor, fair, good, excellent\n",
        "# happy (C) : level\n",
        "# marital (C) : status\n",
        "# martype (C) : type of marriage\n",
        "# agewed (N) : age married\n",
        "# divorce (C) : yes/no\n",
        "# widowed (C) : yes/no\n",
        "# occ10 (C) : job/occ\n",
        "# wrkstat : part-time, full-time, school, keeping house\n",
        "# hrs1\n",
        "# hrs2 (N) : typical weekly hrs worked\n",
        "# wrkslf (C) : self employed?\n",
        "# wrkgovt1 (C) : government employeed\n",
        "# wrkgovt2 (C) : private employeed\n",
        "# whatslf2 (C) : work place classification\n",
        "# ind10 (N) : work industry????\n",
        "# ----------- ALL ABOUT SPOUSE--------------\n",
        "# spwrksta : spouse part-time, full-time, school, keeping house\n",
        "# sphrs1 (N) : IF working full/part-time, hrs worked last week\n",
        "# sphrs2 (N) : spouse's typically weekly hrs worked\n",
        "# spwrkslffam : spouse work for family farm?\n",
        "# spocc10 (C) : spouse's job/occ\n",
        "# sppres10 (N) : prestige of spouse's job??????\n",
        "# spind10 (C) : spouse's work industry\n",
        "# whatsp2 (C) : spouse's work place classification\n",
        "# -------------------------------------------\n",
        "# agekdbrn (N) : age when 1st kd born\n",
        "# childs (N) : # of kids\n",
        "# class (C) : economic (self-evaluated)\n",
        "# income16 (N) : range total family income\n",
        "# pres16 (C) : voted for elections, if voting at all (Hillary/Trump)\n",
        "# pres20 (C) : voted for elections, if voting at all (Trump/Biden)"
      ],
      "metadata": {
        "colab": {
          "base_uri": "https://localhost:8080/"
        },
        "id": "iMStGWeUlPt_",
        "outputId": "eca971a0-23b6-438b-a5c4-1e18e8c2b12f"
      },
      "id": "iMStGWeUlPt_",
      "execution_count": 183,
      "outputs": [
        {
          "output_type": "stream",
          "name": "stdout",
          "text": [
            "        age     sex   race  dipged                    degree  educ  \\\n",
            "24125  22.0  female  white     1.0               high school  12.0   \n",
            "24126  29.0  female  white     1.0                  graduate  19.0   \n",
            "24127  32.0    male  white     1.0  associate/junior college  15.0   \n",
            "24128  49.0  female  white     1.0                  graduate  17.0   \n",
            "24129  50.0    male  white     1.0                  graduate  20.0   \n",
            "\n",
            "             padeg                     madeg             major1     major2  \\\n",
            "24125  high school               high school                NaN        NaN   \n",
            "24126   bachelor's                  graduate  special education  education   \n",
            "24127  high school  associate/junior college             health        NaN   \n",
            "24128     graduate                  graduate     home economics        NaN   \n",
            "24129     graduate                  graduate            biology  chemistry   \n",
            "\n",
            "       ...                               spocc10 sppres10  \\\n",
            "24125  ...                                   NaN      NaN   \n",
            "24126  ...  police and sheriff's patrol officers     60.0   \n",
            "24127  ...                                   NaN     64.0   \n",
            "24128  ...                       civil engineers     65.0   \n",
            "24129  ...        other teachers and instructors     38.0   \n",
            "\n",
            "                                                spind10  \\\n",
            "24125                                               NaN   \n",
            "24126      justice, public order, and safety activities   \n",
            "24127                                               NaN   \n",
            "24128  architectural, engineering, and related services   \n",
            "24129      justice, public order, and safety activities   \n",
            "\n",
            "                                                 whatsp2  agekdbrn childs  \\\n",
            "24125                                                NaN       NaN    0.0   \n",
            "24126  other (agriculture, construction, service, gov...      25.0    2.0   \n",
            "24127                                                NaN      28.0    1.0   \n",
            "24128  other (agriculture, construction, service, gov...       NaN    0.0   \n",
            "24129  other (agriculture, construction, service, gov...      42.0    1.0   \n",
            "\n",
            "               class              income16   pres16  pres20  \n",
            "24125    lower class    $25,000 to $29,999      NaN   biden  \n",
            "24126  working class    $60,000 to $74,999      NaN     NaN  \n",
            "24127   middle class  $130,000 to $149,999  clinton   biden  \n",
            "24128   middle class  $150,000 to $169,999  clinton   biden  \n",
            "24129   middle class   $90,000 to $109,999  clinton   biden  \n",
            "\n",
            "[5 rows x 41 columns]\n",
            "['age', 'sex', 'race', 'dipged', 'degree', 'educ', 'padeg', 'madeg', 'major1', 'major2', 'health', 'happy', 'marital', 'martype', 'agewed', 'divorce', 'widowed', 'occ10', 'wrkstat', 'hrs1', 'hrs2', 'wrkslf', 'wrkgovt1', 'wrkgovt2', 'whatslf2', 'indus10', 'spwrksta', 'sphrs1', 'sphrs2', 'spwrkslf', 'spwrkslffam', 'spocc10', 'sppres10', 'spind10', 'whatsp2', 'agekdbrn', 'childs', 'class', 'income16', 'pres16', 'pres20']\n"
          ]
        }
      ]
    },
    {
      "cell_type": "code",
      "source": [
        "# Cleaning data to make sense in context\n",
        "\n",
        "# Checking sex data\n",
        "for value, count in df2['sex'].value_counts().items():\n",
        "    print(f\"{value}: {count} times\")\n",
        "nan_count = df2['sex'].isna().sum()\n",
        "print(f\"nans:{nan_count}\")\n",
        "\n",
        "condition = df2['sex'].isin(['male', 'female'])\n",
        "df2.loc[condition, 'sex'] = df2.loc[condition, 'sex']\n",
        "# df2.sex should only show male & female"
      ],
      "metadata": {
        "colab": {
          "base_uri": "https://localhost:8080/"
        },
        "id": "F2ZRHYO_5TuQ",
        "outputId": "d5f6756e-5135-4c15-f18f-5e2cbd069180"
      },
      "id": "F2ZRHYO_5TuQ",
      "execution_count": 194,
      "outputs": [
        {
          "output_type": "stream",
          "name": "stdout",
          "text": [
            "female: 13234 times\n",
            "male: 10784 times\n",
            "don't know: 0 times\n",
            "iap: 0 times\n",
            "I don't have a job: 0 times\n",
            "dk, na, iap: 0 times\n",
            "no answer: 0 times\n",
            "not imputable_(2147483637): 0 times\n",
            "not imputable_(2147483638): 0 times\n",
            "refused: 0 times\n",
            "skipped on web: 0 times\n",
            "uncodeable: 0 times\n",
            "not available in this release: 0 times\n",
            "not available in this year: 0 times\n",
            "see codebook: 0 times\n",
            "nans:112\n"
          ]
        }
      ]
    }
  ],
  "metadata": {
    "kernelspec": {
      "display_name": "Python 3 (ipykernel)",
      "language": "python",
      "name": "python3"
    },
    "language_info": {
      "codemirror_mode": {
        "name": "ipython",
        "version": 3
      },
      "file_extension": ".py",
      "mimetype": "text/x-python",
      "name": "python",
      "nbconvert_exporter": "python",
      "pygments_lexer": "ipython3",
      "version": "3.11.4"
    },
    "colab": {
      "provenance": []
    }
  },
  "nbformat": 4,
  "nbformat_minor": 5
}