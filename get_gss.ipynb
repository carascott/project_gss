{
  "cells": [
    {
      "cell_type": "markdown",
      "source": [
        "## Getting the GSS Data\n",
        "\n",
        "Since the data files are about 40GB zipped, we can't store a compressed or uncompressed version on GitHub, and the entire dataset can't really be loaded into memory with Colab.\n",
        "\n",
        "One option is to use Rivana: Download the data, unzip it, and work on it in a persistent environment.\n",
        "\n",
        "The other option is to avoid opening the entire file at once, and instead work with chunks of the data. That's what this code does for you.\n",
        "\n",
        "On GitHub, the data are broken into three smaller files, saved in .parquet format. The code below will load these chunks into memory, one at a time, you can specify the variables you want in `var_list`, and the results will be saved in `selected_gss_data.csv`.\n",
        "\n",
        "You can add more cleaning instructions in between the lines where the data are loaded ( `df = pd.read_parquet(url)`) and the data are saved (`df.loc...`). It's probably easiest to use this code to get only the variables you want, and then clean that subset of the data."
      ],
      "metadata": {
        "id": "1wG5tUBJZAeC"
      },
      "id": "1wG5tUBJZAeC"
    },
    {
      "cell_type": "code",
      "source": [
        "! git clone https://github.com/DS3001/project_gss\n",
        "import numpy as np\n",
        "import pandas as pd\n",
        "import matplotlib.pyplot as plt\n",
        "import seaborn as sns\n",
        "from sklearn.model_selection import train_test_split\n",
        "from sklearn.metrics import mean_squared_error\n",
        "from sklearn.neighbors import KNeighborsRegressor"
      ],
      "metadata": {
        "id": "KdjmjUIQmhqg",
        "outputId": "ef963805-5742-4dd2-ca8f-99232a5195b0",
        "colab": {
          "base_uri": "https://localhost:8080/"
        }
      },
      "id": "KdjmjUIQmhqg",
      "execution_count": 27,
      "outputs": [
        {
          "output_type": "stream",
          "name": "stdout",
          "text": [
            "Cloning into 'project_gss'...\n",
            "remote: Enumerating objects: 23, done.\u001b[K\n",
            "remote: Counting objects: 100% (8/8), done.\u001b[K\n",
            "remote: Compressing objects: 100% (7/7), done.\u001b[K\n",
            "remote: Total 23 (delta 6), reused 1 (delta 1), pack-reused 15\u001b[K\n",
            "Receiving objects: 100% (23/23), 23.94 MiB | 20.72 MiB/s, done.\n",
            "Resolving deltas: 100% (6/6), done.\n"
          ]
        }
      ]
    },
    {
      "cell_type": "code",
      "execution_count": 38,
      "id": "898a40de-9f3d-4dfc-8878-cd3badfdbcec",
      "metadata": {
        "id": "898a40de-9f3d-4dfc-8878-cd3badfdbcec",
        "outputId": "1a05aece-be8c-403b-c06a-4debf4cd32aa",
        "colab": {
          "base_uri": "https://localhost:8080/"
        }
      },
      "outputs": [
        {
          "output_type": "stream",
          "name": "stdout",
          "text": [
            "(24130, 6694)\n"
          ]
        },
        {
          "output_type": "execute_result",
          "data": {
            "text/plain": [
              "Index(['year', 'id', 'wrkstat', 'hrs1', 'hrs2', 'evwork', 'occ', 'prestige',\n",
              "       'wrkslf', 'wrkgovt',\n",
              "       ...\n",
              "       'agehef12', 'agehef13', 'agehef14', 'hompoph', 'wtssps_nea',\n",
              "       'wtssnrps_nea', 'wtssps_next', 'wtssnrps_next', 'wtsscomp',\n",
              "       'wtsscompnr'],\n",
              "      dtype='object', length=6694)"
            ]
          },
          "metadata": {},
          "execution_count": 38
        }
      ],
      "source": [
        "var_list = ['wrkstat', 'prestige'] # List of variables you want to save\n",
        "output_filename = 'selected_gss_data.csv' # Name of the file you want to save the data to\n",
        "\n",
        "modes = ['w','a'] # Has write mode and append mode\n",
        "phase = 0 # Starts in write mode; after one iteration of loop, switches to append mode\n",
        "\n",
        "for k in range(3): # for each chunk of the data\n",
        "    url = 'https://github.com/DS3001/project_gss/raw/main/gss_chunk_' + str(1+k) + '.parquet' # Create url to the chunk to be processed\n",
        "    #print(url) # Check the url is correct\n",
        "    df = pd.read_parquet(url) # Download this chunk of data\n",
        "    #print(df.head()) # Visually inspect the first few rows\n",
        "    df.loc[:,var_list].to_csv(output_filename, # specifies target file to save the chunk to\n",
        "                              mode=modes[phase], # control write versus append\n",
        "                              header=var_list, # variable names\n",
        "                              index=False) # no row index saved\n",
        "    phase = 1 # Switch from write mode to append mode\n",
        "\n",
        "print(df.shape)\n",
        "df.columns\n",
        "# 6694 columns/variables"
      ]
    },
    {
      "cell_type": "code",
      "source": [
        "# Creating new data frame with the correct variables\n",
        "df2 = df[['age', 'sex', 'race', 'dipged', 'degree', 'educ', 'padeg', 'madeg',\n",
        "          'major1', 'major2', 'health', 'happy',\n",
        "          'marital', 'martype', 'agewed', 'divorce', 'widowed',\n",
        "          'occ10', 'wrkstat', 'hrs1', 'hrs2', 'wrkslf', 'wrkgovt1',\n",
        "          'wrkgovt2', 'whatslf2', 'indus10',\n",
        "          'spwrksta', 'sphrs1', 'sphrs2', 'spwrkslf', 'spwrkslffam', 'spocc10',\n",
        "          'sppres10']]\n",
        "#df2 = df2['']\n",
        "print(df2.tail())\n",
        "# age (N)\n",
        "# sex (C) : male or female\n",
        "# race (C)\n",
        "# digped (N??) : highschool education/degree\n",
        "# degree (C)\n",
        "# educ (N) : 10-20 ????\n",
        "# paedeg/maedeg: (C) father/mother degree/education level\n",
        "# major1/major2 (C) : 2 majors inputtable per person\n",
        "# health (C) : poor, fair, good, excellent\n",
        "# happy (C) : level\n",
        "# marital (C) : status\n",
        "# martype (C) : type of marriage\n",
        "# agewed (N) : age married\n",
        "# divorce (C) : yes/no\n",
        "# widowed (C) : yes/no\n",
        "# occ10 (C) : job/occ\n",
        "# wrkstat : part-time, full-time, school, keeping house\n",
        "# hrs1\n",
        "# hrs2 (N) : typical weekly hours worked\n",
        "# wrkslf (C) : self employed?\n",
        "# wrkgovt1 (C) : government employeed\n",
        "# wrkgovt2 (C) : private employeed\n",
        "# whatslf2 (C) : work place classification\n",
        "# ind10 (N) : work industry????\n",
        "# ----------- ALL ABOUT SPOUSE--------------\n",
        "# spwrksta\n",
        "# sphrs1\n",
        "# sphrs2\n",
        "# spwrkslffam\n",
        "# spocc10 (C) : spouse's occupation"
      ],
      "metadata": {
        "id": "iMStGWeUlPt_",
        "outputId": "49b6577e-a587-4928-b5bc-e631d218126e",
        "colab": {
          "base_uri": "https://localhost:8080/"
        }
      },
      "id": "iMStGWeUlPt_",
      "execution_count": 103,
      "outputs": [
        {
          "output_type": "stream",
          "name": "stdout",
          "text": [
            "        age     sex   race  dipged                    degree  educ  \\\n",
            "24125  22.0  female  white     1.0               high school  12.0   \n",
            "24126  29.0  female  white     1.0                  graduate  19.0   \n",
            "24127  32.0    male  white     1.0  associate/junior college  15.0   \n",
            "24128  49.0  female  white     1.0                  graduate  17.0   \n",
            "24129  50.0    male  white     1.0                  graduate  20.0   \n",
            "\n",
            "             padeg                     madeg             major1     major2  \\\n",
            "24125  high school               high school                NaN        NaN   \n",
            "24126   bachelor's                  graduate  special education  education   \n",
            "24127  high school  associate/junior college             health        NaN   \n",
            "24128     graduate                  graduate     home economics        NaN   \n",
            "24129     graduate                  graduate            biology  chemistry   \n",
            "\n",
            "       ... wrkgovt2                                           whatslf2  \\\n",
            "24125  ...      yes  other (agriculture, construction, service, gov...   \n",
            "24126  ...       no  other (agriculture, construction, service, gov...   \n",
            "24127  ...      yes  other (agriculture, construction, service, gov...   \n",
            "24128  ...      yes  other (agriculture, construction, service, gov...   \n",
            "24129  ...      yes  other (agriculture, construction, service, gov...   \n",
            "\n",
            "      indus10           spwrksta  sphrs1 sphrs2      spwrkslf spwrkslffam  \\\n",
            "24125  8660.0                NaN     NaN    NaN           NaN         NaN   \n",
            "24126  8190.0  working full time    60.0    NaN  someone else         NaN   \n",
            "24127  8190.0                NaN     NaN    NaN           NaN         NaN   \n",
            "24128  7860.0  working full time    45.0    NaN  someone else         NaN   \n",
            "24129  9170.0  working full time    40.0    NaN  someone else         NaN   \n",
            "\n",
            "                                    spocc10  sppres10  \n",
            "24125                                   NaN       NaN  \n",
            "24126  police and sheriff's patrol officers      60.0  \n",
            "24127                                   NaN      64.0  \n",
            "24128                       civil engineers      65.0  \n",
            "24129        other teachers and instructors      38.0  \n",
            "\n",
            "[5 rows x 33 columns]\n"
          ]
        }
      ]
    },
    {
      "cell_type": "code",
      "source": [
        "# Cleaning data to make sense in context\n"
      ],
      "metadata": {
        "id": "F2ZRHYO_5TuQ"
      },
      "id": "F2ZRHYO_5TuQ",
      "execution_count": null,
      "outputs": []
    },
    {
      "cell_type": "code",
      "source": [
        "search_keywords = ['age', 'marage']\n",
        "matching_columns = [col for col in df.columns if any(keyword in col for keyword in search_keywords)]\n",
        "\n",
        "print(\"Matching columns:\", matching_columns)"
      ],
      "metadata": {
        "id": "3VkFY7gN5NMk",
        "outputId": "a82e5530-fc7e-46cb-e94d-09d319e774cf",
        "colab": {
          "base_uri": "https://localhost:8080/"
        }
      },
      "id": "3VkFY7gN5NMk",
      "execution_count": 100,
      "outputs": [
        {
          "output_type": "stream",
          "name": "stdout",
          "text": [
            "Matching columns: ['agewed', 'age', 'agekdbrn', 'aged', 'agedpar', 'agedchld', 'hitage', 'gunage', 'age1', 'age2', 'age3', 'age4', 'age5', 'switage1', 'switage2', 'newage', 'agewedcr', 'outraged', 'relagent', 'wkageism', 'agerelex', 'agerborn', 'compwage', 'agecmeus', 'setwage', 'conage', 'ageemp', 'rageemp', 'cideage', 'cideage2', 'cideage3', 'aidsage', 'aidsage2', 'aidsage3', 'suiage', 'suiage2', 'suiage3', 'intage', 'upwages', 'agedv', 'agednv', 'agehef1', 'agehef2', 'agehef3', 'agehef4', 'agehef5', 'agehef6', 'agehef7', 'agehef8', 'agehef9', 'agehef10', 'agehef11', 'agehef12', 'agehef13', 'agehef14']\n"
          ]
        }
      ]
    },
    {
      "cell_type": "code",
      "source": [
        "print(df2.whatslf2)"
      ],
      "metadata": {
        "id": "tkaoVJQ6rPeu",
        "outputId": "eef29858-da9a-4bb4-b8bc-392aa859790e",
        "colab": {
          "base_uri": "https://localhost:8080/"
        }
      },
      "id": "tkaoVJQ6rPeu",
      "execution_count": 88,
      "outputs": [
        {
          "output_type": "stream",
          "name": "stdout",
          "text": [
            "0                                                      NaN\n",
            "1                                                      NaN\n",
            "2                                                      NaN\n",
            "3                                                      NaN\n",
            "4                                                      NaN\n",
            "                               ...                        \n",
            "24125    other (agriculture, construction, service, gov...\n",
            "24126    other (agriculture, construction, service, gov...\n",
            "24127    other (agriculture, construction, service, gov...\n",
            "24128    other (agriculture, construction, service, gov...\n",
            "24129    other (agriculture, construction, service, gov...\n",
            "Name: whatslf2, Length: 24130, dtype: category\n",
            "Categories (17, object): ['manufacturing', 'wholesale trade', 'retail trade',\n",
            "                          'other (agriculture, construction, service, go..., ..., 'uncodeable', 'not available in this release',\n",
            "                          'not available in this year', 'see codebook']\n"
          ]
        }
      ]
    },
    {
      "cell_type": "code",
      "source": [
        "#for value in df['hrs2'].unique():\n",
        "    #print(value)\n",
        "for value, count in df['hrs2'].value_counts().items():\n",
        "    print(f\"{value}: {count} times\")"
      ],
      "metadata": {
        "id": "tCKFHuG30SeM",
        "outputId": "7c35e7ac-6f94-4b6d-d93e-24e8b390977a",
        "colab": {
          "base_uri": "https://localhost:8080/"
        }
      },
      "id": "tCKFHuG30SeM",
      "execution_count": 86,
      "outputs": [
        {
          "output_type": "stream",
          "name": "stdout",
          "text": [
            "40.0: 194 times\n",
            "50.0: 50 times\n",
            "45.0: 32 times\n",
            "30.0: 27 times\n",
            "60.0: 21 times\n",
            "35.0: 17 times\n",
            "15.0: 11 times\n",
            "25.0: 11 times\n",
            "32.0: 10 times\n",
            "38.0: 9 times\n",
            "20.0: 9 times\n",
            "70.0: 7 times\n",
            "48.0: 7 times\n",
            "10.0: 7 times\n",
            "55.0: 6 times\n",
            "12.0: 6 times\n",
            "65.0: 5 times\n",
            "36.0: 5 times\n",
            "5.0: 4 times\n",
            "42.0: 4 times\n",
            "18.0: 3 times\n",
            "44.0: 3 times\n",
            "24.0: 3 times\n",
            "1.0: 3 times\n",
            "21.0: 2 times\n",
            "6.0: 2 times\n",
            "8.0: 2 times\n",
            "80.0: 2 times\n",
            "28.0: 2 times\n",
            "16.0: 2 times\n",
            "46.0: 1 times\n",
            "22.0: 1 times\n",
            "66.0: 1 times\n",
            "84.0: 1 times\n",
            "34.0: 1 times\n",
            "9.0: 1 times\n",
            "41.0: 1 times\n",
            "7.0: 1 times\n",
            "3.0: 1 times\n",
            "17.0: 1 times\n",
            "43.0: 1 times\n",
            "26.0: 1 times\n",
            "52.0: 1 times\n"
          ]
        }
      ]
    }
  ],
  "metadata": {
    "kernelspec": {
      "display_name": "Python 3 (ipykernel)",
      "language": "python",
      "name": "python3"
    },
    "language_info": {
      "codemirror_mode": {
        "name": "ipython",
        "version": 3
      },
      "file_extension": ".py",
      "mimetype": "text/x-python",
      "name": "python",
      "nbconvert_exporter": "python",
      "pygments_lexer": "ipython3",
      "version": "3.11.4"
    },
    "colab": {
      "provenance": []
    }
  },
  "nbformat": 4,
  "nbformat_minor": 5
}